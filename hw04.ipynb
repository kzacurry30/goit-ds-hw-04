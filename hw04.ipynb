{
 "cells": [
  {
   "cell_type": "code",
   "id": "initial_id",
   "metadata": {
    "collapsed": true,
    "ExecuteTime": {
     "end_time": "2024-09-19T20:54:31.977523Z",
     "start_time": "2024-09-19T20:54:31.972474Z"
    }
   },
   "source": [
    "import numpy as np\n",
    "\n",
    "vector = np.arange(1, 11)\n",
    "print(vector)"
   ],
   "outputs": [
    {
     "name": "stdout",
     "output_type": "stream",
     "text": [
      "[ 1  2  3  4  5  6  7  8  9 10]\n"
     ]
    }
   ],
   "execution_count": 6
  },
  {
   "metadata": {
    "ExecuteTime": {
     "end_time": "2024-09-19T20:57:07.647512Z",
     "start_time": "2024-09-19T20:57:07.640658Z"
    }
   },
   "cell_type": "code",
   "source": [
    "import numpy as np\n",
    "\n",
    "vector = np.zeros((3, 3), dtype=int)\n",
    "print(vector)"
   ],
   "id": "676a0c3ac32b0efd",
   "outputs": [
    {
     "name": "stdout",
     "output_type": "stream",
     "text": [
      "[[0 0 0]\n",
      " [0 0 0]\n",
      " [0 0 0]]\n"
     ]
    }
   ],
   "execution_count": 7
  },
  {
   "metadata": {
    "ExecuteTime": {
     "end_time": "2024-09-19T21:03:16.671208Z",
     "start_time": "2024-09-19T21:03:16.662953Z"
    }
   },
   "cell_type": "code",
   "source": [
    "import numpy as np\n",
    "\n",
    "\n",
    "matrix = np.random.randint(1, 11, size=(5, 5))\n",
    "print(matrix)"
   ],
   "id": "a6b8b84df2cf7eea",
   "outputs": [
    {
     "name": "stdout",
     "output_type": "stream",
     "text": [
      "[[9 9 5 7 2]\n",
      " [4 7 8 7 9]\n",
      " [3 1 1 3 3]\n",
      " [2 9 6 4 6]\n",
      " [2 7 1 1 3]]\n"
     ]
    }
   ],
   "execution_count": 14
  },
  {
   "metadata": {
    "ExecuteTime": {
     "end_time": "2024-09-19T22:27:47.731413Z",
     "start_time": "2024-09-19T22:27:47.703468Z"
    }
   },
   "cell_type": "code",
   "source": [
    "import numpy as np\n",
    "\n",
    "random_matrix_float = np.random.rand(4, 4)\n",
    "print(random_matrix_float)\n"
   ],
   "id": "2e816b5d5adcedd1",
   "outputs": [
    {
     "name": "stdout",
     "output_type": "stream",
     "text": [
      "[[0.41304988 0.14703933 0.05601426 0.75019095]\n",
      " [0.84589318 0.77085555 0.28600752 0.69298761]\n",
      " [0.71788009 0.23438972 0.2625569  0.79022482]\n",
      " [0.5544625  0.79447719 0.76152584 0.02822884]]\n"
     ]
    }
   ],
   "execution_count": 15
  },
  {
   "metadata": {
    "ExecuteTime": {
     "end_time": "2024-09-19T22:32:29.074722Z",
     "start_time": "2024-09-19T22:32:29.069420Z"
    }
   },
   "cell_type": "code",
   "source": [
    "import numpy as np\n",
    "\n",
    "array_1 = np.random.randint(1, 11, size=(5))\n",
    "array_2 = np.random.randint(1, 11, size=(5))\n",
    "\n",
    "opperation_1 = array_1 + array_2\n",
    "opperation_2 = array_1 - array_2\n",
    "opperation_3 = array_1 * array_2\n",
    "\n",
    "print(array_1, array_2)\n",
    "print(opperation_1)\n",
    "print(opperation_2)\n",
    "print(opperation_3)"
   ],
   "id": "dfcadaa63abcdc0d",
   "outputs": [
    {
     "name": "stdout",
     "output_type": "stream",
     "text": [
      "[ 9  4  4  5 10] [ 6  5  6 10 10]\n",
      "[15  9 10 15 20]\n",
      "[ 3 -1 -2 -5  0]\n",
      "[ 54  20  24  50 100]\n"
     ]
    }
   ],
   "execution_count": 18
  },
  {
   "metadata": {
    "ExecuteTime": {
     "end_time": "2024-09-19T22:40:05.408268Z",
     "start_time": "2024-09-19T22:40:05.400766Z"
    }
   },
   "cell_type": "code",
   "source": [
    "import numpy as np\n",
    "\n",
    "vector_1 = np.random.randint(7),\n",
    "vector_2 = np.random.randint (7)\n",
    "\n",
    "print(np.dot(vector_1, vector_2))"
   ],
   "id": "22f0b6912b9af11d",
   "outputs": [
    {
     "name": "stdout",
     "output_type": "stream",
     "text": [
      "[12]\n"
     ]
    }
   ],
   "execution_count": 25
  },
  {
   "metadata": {
    "ExecuteTime": {
     "end_time": "2024-09-19T22:44:14.485762Z",
     "start_time": "2024-09-19T22:44:14.471705Z"
    }
   },
   "cell_type": "code",
   "source": [
    "import numpy as np\n",
    "\n",
    "matrix_1 = np.random.randint(1, 11, size = (2,2))\n",
    "matrix_2 = np.random.randint(1, 11, size = (2,3))\n",
    "\n",
    "matrix_product = np.dot(matrix_1, matrix_2)\n",
    "\n",
    "\n",
    "print(\"Матриця 1 (2x2):\")\n",
    "print(matrix_1)\n",
    "print(\"\\nМатриця 2 (2x3):\")\n",
    "print(matrix_2)\n",
    "print(\"\\nРезультат множення матриць:\")\n",
    "print(matrix_product)"
   ],
   "id": "459bac4e6c185d33",
   "outputs": [
    {
     "name": "stdout",
     "output_type": "stream",
     "text": [
      "Матриця 1 (2x2):\n",
      "[[6 8]\n",
      " [3 7]]\n",
      "\n",
      "Матриця 2 (2x3):\n",
      "[[2 1 5]\n",
      " [4 7 7]]\n",
      "\n",
      "Результат множення матриць:\n",
      "[[44 62 86]\n",
      " [34 52 64]]\n"
     ]
    }
   ],
   "execution_count": 30
  },
  {
   "metadata": {
    "ExecuteTime": {
     "end_time": "2024-09-19T22:46:20.806466Z",
     "start_time": "2024-09-19T22:46:20.761810Z"
    }
   },
   "cell_type": "code",
   "source": [
    "import numpy as np\n",
    "\n",
    "a = np.array([[1, 2, 3],\n",
    "              [4, 5, 6],\n",
    "              [7, 8, 9]])\n",
    "\n",
    "a_inv = np.linalg.inv(a)\n",
    "print(a_inv)"
   ],
   "id": "a19184aff7bc3c2e",
   "outputs": [
    {
     "name": "stdout",
     "output_type": "stream",
     "text": [
      "[[ 3.15251974e+15 -6.30503948e+15  3.15251974e+15]\n",
      " [-6.30503948e+15  1.26100790e+16 -6.30503948e+15]\n",
      " [ 3.15251974e+15 -6.30503948e+15  3.15251974e+15]]\n"
     ]
    }
   ],
   "execution_count": 32
  },
  {
   "metadata": {
    "ExecuteTime": {
     "end_time": "2024-09-19T22:47:38.721448Z",
     "start_time": "2024-09-19T22:47:38.714156Z"
    }
   },
   "cell_type": "code",
   "source": [
    "import numpy as np\n",
    "\n",
    "a = np.array([[1, 2, 3, 7],\n",
    "              [4, 5, 6, 8],\n",
    "              [7, 8, 9, 2]])\n",
    "\n",
    "print(a)\n",
    "b = a.T\n",
    "print(b)"
   ],
   "id": "496619450948e704",
   "outputs": [
    {
     "name": "stdout",
     "output_type": "stream",
     "text": [
      "[[1 2 3 7]\n",
      " [4 5 6 8]\n",
      " [7 8 9 2]]\n",
      "[[1 4 7]\n",
      " [2 5 8]\n",
      " [3 6 9]\n",
      " [7 8 2]]\n"
     ]
    }
   ],
   "execution_count": 33
  },
  {
   "metadata": {
    "ExecuteTime": {
     "end_time": "2024-09-19T22:48:03.840789Z",
     "start_time": "2024-09-19T22:48:03.834077Z"
    }
   },
   "cell_type": "code",
   "source": [
    "import numpy as np\n",
    "\n",
    "\n",
    "matrix = np.random.randint(1, 11, size=(3, 4))\n",
    "\n",
    "\n",
    "vector = np.random.randint(1, 11, size=4)\n",
    "\n",
    "\n",
    "result = np.dot(matrix, vector)\n",
    "\n",
    "print(\"Матриця 3x4:\")\n",
    "print(matrix)\n",
    "print(\"\\nВектор:\")\n",
    "print(vector)\n",
    "print(\"\\nРезультат перемноження:\")\n",
    "print(result)"
   ],
   "id": "7fbaaac9b85cd09d",
   "outputs": [
    {
     "name": "stdout",
     "output_type": "stream",
     "text": [
      "Матриця 3x4:\n",
      "[[ 4  4 10  9]\n",
      " [ 2  4  3  1]\n",
      " [ 7 10  2  8]]\n",
      "\n",
      "Вектор:\n",
      "[3 8 6 5]\n",
      "\n",
      "Результат перемноження:\n",
      "[149  61 153]\n"
     ]
    }
   ],
   "execution_count": 34
  },
  {
   "metadata": {
    "ExecuteTime": {
     "end_time": "2024-09-19T22:50:17.794772Z",
     "start_time": "2024-09-19T22:50:17.788583Z"
    }
   },
   "cell_type": "code",
   "source": [
    "import numpy as np\n",
    "\n",
    "\n",
    "matrix = np.random.randint(0, 1, size=(2, 3))\n",
    "\n",
    "\n",
    "vector = np.random.randint(0, 1, size=3)\n",
    "\n",
    "\n",
    "result = np.dot(matrix, vector)\n",
    "\n",
    "print(\"Матриця 2x3:\")\n",
    "print(matrix)\n",
    "print(\"\\nВектор:\")\n",
    "print(vector)\n",
    "print(\"\\nРезультат перемноження:\")\n",
    "print(result)"
   ],
   "id": "12283de0db1426",
   "outputs": [
    {
     "name": "stdout",
     "output_type": "stream",
     "text": [
      "Матриця 2x3:\n",
      "[[0 0 0]\n",
      " [0 0 0]]\n",
      "\n",
      "Вектор:\n",
      "[0 0 0]\n",
      "\n",
      "Результат перемноження:\n",
      "[0 0]\n"
     ]
    }
   ],
   "execution_count": 37
  },
  {
   "metadata": {
    "ExecuteTime": {
     "end_time": "2024-09-19T22:51:02.636925Z",
     "start_time": "2024-09-19T22:51:02.626925Z"
    }
   },
   "cell_type": "code",
   "source": [
    "import numpy as np\n",
    "\n",
    "\n",
    "matrix1 = np.random.randint(1, 11, size=(2, 2))\n",
    "\n",
    "\n",
    "matrix2 = np.random.randint(1, 11, size=(2, 2))\n",
    "\n",
    "\n",
    "elementwise_product = matrix1 * matrix2\n",
    "\n",
    "print(\"Перша матриця 2x2:\")\n",
    "print(matrix1)\n",
    "print(\"\\nДруга матриця 2x2:\")\n",
    "print(matrix2)\n",
    "print(\"\\nПоелементне множення матриць:\")\n",
    "print(elementwise_product)"
   ],
   "id": "62113cddf15eb75c",
   "outputs": [
    {
     "name": "stdout",
     "output_type": "stream",
     "text": [
      "Перша матриця 2x2:\n",
      "[[4 5]\n",
      " [2 5]]\n",
      "\n",
      "Друга матриця 2x2:\n",
      "[[ 6  6]\n",
      " [ 4 10]]\n",
      "\n",
      "Поелементне множення матриць:\n",
      "[[24 30]\n",
      " [ 8 50]]\n"
     ]
    }
   ],
   "execution_count": 38
  },
  {
   "metadata": {
    "ExecuteTime": {
     "end_time": "2024-09-19T22:52:44.482715Z",
     "start_time": "2024-09-19T22:52:44.476309Z"
    }
   },
   "cell_type": "code",
   "source": [
    "import numpy as np\n",
    "\n",
    "\n",
    "matrix1 = np.random.randint(1, 11, size=(2, 2))\n",
    "\n",
    "\n",
    "matrix2 = np.random.randint(1, 11, size=(2, 2))\n",
    "\n",
    "\n",
    "elementwise_product = np.dot(matrix1, matrix2)\n",
    "\n",
    "print(\"Перша матриця 2x2:\")\n",
    "print(matrix1)\n",
    "print(\"\\nДруга матриця 2x2:\")\n",
    "print(matrix2)\n",
    "print(\"\\nДобуток:\")\n",
    "print(elementwise_product)"
   ],
   "id": "6029aeb978627e0b",
   "outputs": [
    {
     "name": "stdout",
     "output_type": "stream",
     "text": [
      "Перша матриця 2x2:\n",
      "[[8 4]\n",
      " [1 4]]\n",
      "\n",
      "Друга матриця 2x2:\n",
      "[[6 5]\n",
      " [6 1]]\n",
      "\n",
      "Добуток:\n",
      "[[72 44]\n",
      " [30  9]]\n"
     ]
    }
   ],
   "execution_count": 40
  },
  {
   "metadata": {
    "ExecuteTime": {
     "end_time": "2024-09-19T22:54:18.294618Z",
     "start_time": "2024-09-19T22:54:18.282187Z"
    }
   },
   "cell_type": "code",
   "source": [
    "import numpy as np\n",
    "\n",
    "matrix1 = np.random.randint(1, 101, size=(5, 5))\n",
    "\n",
    "sum_matrix = np.sum(matrix1, axis=1)\n",
    "print(sum_matrix)"
   ],
   "id": "3b45663ff8065d8d",
   "outputs": [
    {
     "name": "stdout",
     "output_type": "stream",
     "text": [
      "[226 202 271 229 246]\n"
     ]
    }
   ],
   "execution_count": 41
  },
  {
   "metadata": {
    "ExecuteTime": {
     "end_time": "2024-09-19T22:55:22.870250Z",
     "start_time": "2024-09-19T22:55:22.858758Z"
    }
   },
   "cell_type": "code",
   "source": [
    "import numpy as np\n",
    "\n",
    "matrix1 = np.random.randint(1, 11, size=(4, 4))\n",
    "\n",
    "matrix2 = np.random.randint(1, 11, size=(4, 4))\n",
    "\n",
    "difference_matrix = np.subtract(matrix1, matrix2)\n",
    "\n",
    "print(difference_matrix)"
   ],
   "id": "ec2887d0c5495fe0",
   "outputs": [
    {
     "name": "stdout",
     "output_type": "stream",
     "text": [
      "[[-4  2  6  5]\n",
      " [ 5  0 -3  3]\n",
      " [-4 -5  2  1]\n",
      " [-2  3  1 -1]]\n"
     ]
    }
   ],
   "execution_count": 42
  },
  {
   "metadata": {
    "ExecuteTime": {
     "end_time": "2024-09-19T22:59:56.428177Z",
     "start_time": "2024-09-19T22:59:56.421461Z"
    }
   },
   "cell_type": "code",
   "source": [
    "import numpy as np\n",
    "\n",
    "\n",
    "matrix = np.random.rand(3, 3)\n",
    "\n",
    "\n",
    "row_sums = np.sum(matrix, axis=1)\n",
    "\n",
    "print(\"Матриця 3x3:\")\n",
    "print(matrix)\n",
    "print(\"\\nВектор-стовпчик, що містить суму елементів кожного рядка:\")\n",
    "print(row_sums)\n"
   ],
   "id": "45464d19cd893c7",
   "outputs": [
    {
     "name": "stdout",
     "output_type": "stream",
     "text": [
      "Матриця 3x3:\n",
      "[[0.34613806 0.40564563 0.07315766]\n",
      " [0.5062227  0.40653072 0.94663566]\n",
      " [0.9818209  0.96587789 0.98246831]]\n",
      "\n",
      "Вектор-стовпчик, що містить суму елементів кожного рядка:\n",
      "[0.82494135 1.85938909 2.9301671 ]\n"
     ]
    }
   ],
   "execution_count": 50
  },
  {
   "metadata": {
    "ExecuteTime": {
     "end_time": "2024-09-19T23:00:51.598931Z",
     "start_time": "2024-09-19T23:00:51.592372Z"
    }
   },
   "cell_type": "code",
   "source": [
    "import numpy as np\n",
    "\n",
    "\n",
    "matrix = np.random.randint(-10, 11, size=(3, 4))  \n",
    "\n",
    "\n",
    "squared_matrix = matrix ** 2\n",
    "\n",
    "print(\"Матриця 3x4:\")\n",
    "print(matrix)\n",
    "print(\"\\nМатриця з квадратами чисел:\")\n",
    "print(squared_matrix)\n"
   ],
   "id": "6c97cff8f1c75e56",
   "outputs": [
    {
     "name": "stdout",
     "output_type": "stream",
     "text": [
      "Матриця 3x4:\n",
      "[[ 0  5 -2 -6]\n",
      " [-6  3  2 -2]\n",
      " [ 3  7 -3 -6]]\n",
      "\n",
      "Матриця з квадратами чисел:\n",
      "[[ 0 25  4 36]\n",
      " [36  9  4  4]\n",
      " [ 9 49  9 36]]\n"
     ]
    }
   ],
   "execution_count": 51
  },
  {
   "metadata": {
    "ExecuteTime": {
     "end_time": "2024-09-19T23:02:24.925402Z",
     "start_time": "2024-09-19T23:02:24.917698Z"
    }
   },
   "cell_type": "code",
   "source": [
    "import numpy as np\n",
    "\n",
    "vector = np.random.rand(1, 51)\n",
    "\n",
    "squared_vector = vector ** 2\n",
    "\n",
    "print(squared_vector)"
   ],
   "id": "7ef01d704bfb3331",
   "outputs": [
    {
     "name": "stdout",
     "output_type": "stream",
     "text": [
      "[[6.00075272e-01 9.04112593e-05 2.42670512e-01 2.29517472e-02\n",
      "  1.29582257e-01 3.58710692e-01 1.32098536e-01 3.14944580e-01\n",
      "  1.99732962e-01 8.62907470e-01 4.69551378e-02 9.04123249e-01\n",
      "  6.23452386e-01 2.50893776e-02 2.10404616e-02 6.14122500e-01\n",
      "  8.88530559e-02 2.45950263e-01 1.20763484e-04 2.52400945e-01\n",
      "  5.46671542e-01 3.36716121e-02 1.01976841e-01 1.07990298e-01\n",
      "  7.57011982e-02 3.89960929e-01 4.60333231e-01 9.74085290e-01\n",
      "  7.58280093e-02 1.62344004e-01 4.39065898e-03 5.52018052e-01\n",
      "  1.14017153e-01 8.58925362e-01 3.56663199e-01 5.97722064e-02\n",
      "  1.33759592e-04 1.31282060e-02 6.75150964e-02 3.75499760e-02\n",
      "  1.44127633e-02 3.56158435e-01 3.03590156e-02 7.55174531e-01\n",
      "  1.22217969e-01 3.00964537e-01 9.08591769e-01 4.58455982e-01\n",
      "  8.54852355e-01 8.06683962e-01 1.63770277e-01]]\n"
     ]
    }
   ],
   "execution_count": 53
  },
  {
   "metadata": {},
   "cell_type": "code",
   "outputs": [],
   "execution_count": null,
   "source": "",
   "id": "77308565f67dd8e8"
  }
 ],
 "metadata": {
  "kernelspec": {
   "display_name": "Python 3",
   "language": "python",
   "name": "python3"
  },
  "language_info": {
   "codemirror_mode": {
    "name": "ipython",
    "version": 2
   },
   "file_extension": ".py",
   "mimetype": "text/x-python",
   "name": "python",
   "nbconvert_exporter": "python",
   "pygments_lexer": "ipython2",
   "version": "2.7.6"
  }
 },
 "nbformat": 4,
 "nbformat_minor": 5
}
